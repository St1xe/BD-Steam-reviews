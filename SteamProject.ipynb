{
 "cells": [
  {
   "cell_type": "code",
   "execution_count": 2,
   "id": "906c50dd",
   "metadata": {},
   "outputs": [
    {
     "name": "stderr",
     "output_type": "stream",
     "text": [
      "                                                                                \r"
     ]
    },
    {
     "name": "stdout",
     "output_type": "stream",
     "text": [
      "root\n",
      " |-- recommendationid: string (nullable = true)\n",
      " |-- appid: integer (nullable = true)\n",
      " |-- game: string (nullable = true)\n",
      " |-- author_steamid: string (nullable = true)\n",
      " |-- author_num_games_owned: string (nullable = true)\n",
      " |-- author_num_reviews: long (nullable = true)\n",
      " |-- author_playtime_forever: double (nullable = true)\n",
      " |-- author_playtime_last_two_weeks: integer (nullable = true)\n",
      " |-- author_playtime_at_review: integer (nullable = true)\n",
      " |-- author_last_played: integer (nullable = true)\n",
      " |-- language: string (nullable = true)\n",
      " |-- review: string (nullable = true)\n",
      " |-- timestamp_created: string (nullable = true)\n",
      " |-- timestamp_updated: string (nullable = true)\n",
      " |-- voted_up: string (nullable = true)\n",
      " |-- votes_up: string (nullable = true)\n",
      " |-- votes_funny: string (nullable = true)\n",
      " |-- weighted_vote_score: string (nullable = true)\n",
      " |-- comment_count: string (nullable = true)\n",
      " |-- steam_purchase: string (nullable = true)\n",
      " |-- received_for_free: string (nullable = true)\n",
      " |-- written_during_early_access: string (nullable = true)\n",
      " |-- hidden_in_steam_china: string (nullable = true)\n",
      " |-- steam_china_location: string (nullable = true)\n",
      "\n",
      "+----------------+-----+--------------+-----------------+----------------------+------------------+-----------------------+------------------------------+-------------------------+------------------+--------+----------------------------------+-----------------+-----------------+--------+--------+-----------+-------------------+-------------+--------------+-----------------+---------------------------+---------------------+--------------------+\n",
      "|recommendationid|appid|          game|   author_steamid|author_num_games_owned|author_num_reviews|author_playtime_forever|author_playtime_last_two_weeks|author_playtime_at_review|author_last_played|language|                            review|timestamp_created|timestamp_updated|voted_up|votes_up|votes_funny|weighted_vote_score|comment_count|steam_purchase|received_for_free|written_during_early_access|hidden_in_steam_china|steam_china_location|\n",
      "+----------------+-----+--------------+-----------------+----------------------+------------------+-----------------------+------------------------------+-------------------------+------------------+--------+----------------------------------+-----------------+-----------------+--------+--------+-----------+-------------------+-------------+--------------+-----------------+---------------------------+---------------------+--------------------+\n",
      "|       147449116|   10|Counter-Strike|76561199183984450|                    51|                12|                 2548.0|                             0|                     2480|        1696305457|schinese|抛去不开英文输入法就闪退的bug来...|       1696179329|       1696179329|       1|      99|          2|  0.889438092708588|            0|             1|                0|                          0|                    1|                null|\n",
      "+----------------+-----+--------------+-----------------+----------------------+------------------+-----------------------+------------------------------+-------------------------+------------------+--------+----------------------------------+-----------------+-----------------+--------+--------+-----------+-------------------+-------------+--------------+-----------------+---------------------------+---------------------+--------------------+\n",
      "only showing top 1 row\n",
      "\n"
     ]
    }
   ],
   "source": [
    "steamDF = spark.read.option(\"sep\",\",\").option(\"header\", \"true\").option(\"inferSchema\",  \"true\") \\\n",
    "    .csv(\"file:/home/student/Data/steam_project/steam.csv\")\n",
    "steamDF.createOrReplaceTempView(\"steam\")\n",
    "steamDF.printSchema()\n",
    "steamDF.show(1)"
   ]
  },
  {
   "cell_type": "code",
   "execution_count": 6,
   "id": "1327c5f2",
   "metadata": {},
   "outputs": [
    {
     "name": "stdout",
     "output_type": "stream",
     "text": [
      "root\n",
      " |-- count(1): long (nullable = false)\n",
      "\n"
     ]
    },
    {
     "name": "stderr",
     "output_type": "stream",
     "text": [
      "[Stage 11:================================================>         (5 + 1) / 6]\r"
     ]
    },
    {
     "name": "stdout",
     "output_type": "stream",
     "text": [
      "+--------+\n",
      "|count(1)|\n",
      "+--------+\n",
      "|  498103|\n",
      "+--------+\n",
      "\n"
     ]
    },
    {
     "name": "stderr",
     "output_type": "stream",
     "text": [
      "\r",
      "                                                                                \r"
     ]
    }
   ],
   "source": [
    "steamCountDF = spark.sql(\"\"\"SELECT count(*)\n",
    "                            FROM steam\n",
    "                             \"\"\")\n",
    "steamCountDF.printSchema()\n",
    "steamCountDF.show()"
   ]
  },
  {
   "cell_type": "code",
   "execution_count": 7,
   "id": "a9060d9b",
   "metadata": {},
   "outputs": [
    {
     "name": "stdout",
     "output_type": "stream",
     "text": [
      "root\n",
      " |-- count(1): long (nullable = false)\n",
      "\n"
     ]
    },
    {
     "name": "stderr",
     "output_type": "stream",
     "text": [
      "[Stage 13:================================================>         (5 + 1) / 6]\r"
     ]
    },
    {
     "name": "stdout",
     "output_type": "stream",
     "text": [
      "+--------+\n",
      "|count(1)|\n",
      "+--------+\n",
      "|   56789|\n",
      "+--------+\n",
      "\n"
     ]
    },
    {
     "name": "stderr",
     "output_type": "stream",
     "text": [
      "\r",
      "                                                                                \r"
     ]
    }
   ],
   "source": [
    "steamCountIncorrectVotesDF = spark.sql(\"\"\"SELECT count(*)\n",
    "                            FROM steam\n",
    "                            WHERE voted_up NOT IN (0,1)\n",
    "                             \"\"\")\n",
    "steamCountIncorrectVotesDF.printSchema()\n",
    "steamCountIncorrectVotesDF.show()"
   ]
  },
  {
   "cell_type": "code",
   "execution_count": 8,
   "id": "9a127dbb",
   "metadata": {},
   "outputs": [
    {
     "name": "stdout",
     "output_type": "stream",
     "text": [
      "root\n",
      " |-- count(1): long (nullable = false)\n",
      "\n"
     ]
    },
    {
     "name": "stderr",
     "output_type": "stream",
     "text": [
      "[Stage 15:================================================>         (5 + 1) / 6]\r"
     ]
    },
    {
     "name": "stdout",
     "output_type": "stream",
     "text": [
      "+--------+\n",
      "|count(1)|\n",
      "+--------+\n",
      "|      40|\n",
      "+--------+\n",
      "\n"
     ]
    },
    {
     "name": "stderr",
     "output_type": "stream",
     "text": [
      "\r",
      "                                                                                \r"
     ]
    }
   ],
   "source": [
    "steamNullGameDF = spark.sql(\"\"\"SELECT count(*)\n",
    "                            FROM steam\n",
    "                            WHERE game IS NULL\n",
    "                             \"\"\")\n",
    "steamNullGameDF.printSchema()\n",
    "steamNullGameDF.show()"
   ]
  },
  {
   "cell_type": "code",
   "execution_count": 9,
   "id": "b745b8b9",
   "metadata": {},
   "outputs": [
    {
     "name": "stdout",
     "output_type": "stream",
     "text": [
      "root\n",
      " |-- recommendationid: string (nullable = true)\n",
      " |-- appid: integer (nullable = true)\n",
      " |-- game: string (nullable = true)\n",
      " |-- author_steamid: string (nullable = true)\n",
      " |-- author_num_games_owned: string (nullable = true)\n",
      " |-- author_num_reviews: long (nullable = true)\n",
      " |-- author_playtime_forever: double (nullable = true)\n",
      " |-- author_playtime_last_two_weeks: integer (nullable = true)\n",
      " |-- author_playtime_at_review: integer (nullable = true)\n",
      " |-- author_last_played: integer (nullable = true)\n",
      " |-- language: string (nullable = true)\n",
      " |-- review: string (nullable = true)\n",
      " |-- timestamp_created: string (nullable = true)\n",
      " |-- timestamp_updated: string (nullable = true)\n",
      " |-- voted_up: string (nullable = true)\n",
      " |-- votes_up: string (nullable = true)\n",
      " |-- votes_funny: string (nullable = true)\n",
      " |-- weighted_vote_score: string (nullable = true)\n",
      " |-- comment_count: string (nullable = true)\n",
      " |-- steam_purchase: string (nullable = true)\n",
      " |-- received_for_free: string (nullable = true)\n",
      " |-- written_during_early_access: string (nullable = true)\n",
      " |-- hidden_in_steam_china: string (nullable = true)\n",
      " |-- steam_china_location: string (nullable = true)\n",
      "\n",
      "+----------------+-----+--------------+-----------------+----------------------+------------------+-----------------------+------------------------------+-------------------------+------------------+--------+-----------------------------------+-----------------+-----------------+--------+--------+-----------+-------------------+-------------+--------------+-----------------+---------------------------+---------------------+--------------------+\n",
      "|recommendationid|appid|          game|   author_steamid|author_num_games_owned|author_num_reviews|author_playtime_forever|author_playtime_last_two_weeks|author_playtime_at_review|author_last_played|language|                             review|timestamp_created|timestamp_updated|voted_up|votes_up|votes_funny|weighted_vote_score|comment_count|steam_purchase|received_for_free|written_during_early_access|hidden_in_steam_china|steam_china_location|\n",
      "+----------------+-----+--------------+-----------------+----------------------+------------------+-----------------------+------------------------------+-------------------------+------------------+--------+-----------------------------------+-----------------+-----------------+--------+--------+-----------+-------------------+-------------+--------------+-----------------+---------------------------+---------------------+--------------------+\n",
      "|       147449116|   10|Counter-Strike|76561199183984450|                    51|                12|                 2548.0|                             0|                     2480|        1696305457|schinese| 抛去不开英文输入法就闪退的bug来...|       1696179329|       1696179329|       1|      99|          2|  0.889438092708588|            0|             1|                0|                          0|                    1|                null|\n",
      "|       147374264|   10|Counter-Strike|76561198099573060|                   226|                13|                 2369.0|                             0|                     2361|        1696096555| russian|               Ну что после удал...|       1696095988|       1696095988|       1|     122|          8|  0.914834380149841|            0|             1|                0|                          0|                    1|                null|\n",
      "|       147357703|   10|Counter-Strike|76561199080026894|                   118|                23|                13501.0|                           212|                    12957|        1697630734|schinese|总是在电脑旁看见爸爸玩CS，我想这...|       1696081938|       1696081938|       1|     599|         20|  0.968374609947205|            3|             1|                0|                          0|                    1|                null|\n",
      "|       147345102|   10|Counter-Strike|76561198068970227|                    28|                 1|                10668.0|                           640|                     9906|        1698261011| russian|               Зашёл на сервак, ...|       1696069066|       1696069066|       1|      59|         12|  0.826205790042877|            0|             0|                0|                          0|                    1|                null|\n",
      "|       147284743|   10|Counter-Strike|76561199137893460|                    19|                 5|                  543.0|                            10|                      526|        1697810991|schinese|    cs2出了真他妈傻逼以后就玩cs1...|       1695999199|       1695999199|       1|     128|         24|  0.853611946105957|            0|             1|                0|                          0|                    1|                null|\n",
      "|       147263134|   10|Counter-Strike|76561199013220131|                    41|                10|                 2510.0|                             0|                      221|        1696768614| english|                         cs 1.6>cs2|       1695972709|       1695972709|       1|     300|         13|  0.863652169704437|            0|             1|                0|                          0|                    1|                null|\n",
      "|       147222416|   10|Counter-Strike|76561198440845051|                   217|                41|                   90.0|                             0|                       90|        1694790536| turkish|               100 lira ne orusp...|       1695920846|       1695920846|       1|      62|         22|  0.855718195438385|            0|             1|                0|                          0|                    1|                null|\n",
      "|       146306423|   10|Counter-Strike|76561198844364197|                   138|                 3|                18010.0|                          1633|                    14264|        1698326669|schinese|       [h1]CS1.6闪退解决的三種方...|       1694734052|       1696593724|       1|     104|         10|  0.902211606502533|            5|             1|                0|                          0|                    1|                null|\n",
      "|       146253831|   10|Counter-Strike|76561198847956367|                     0|                 1|               404175.0|                          1486|                   396410|        1698293849| english|               #1 PLAYED PC GAME...|       1694651476|       1694651476|       1|     102|          1|  0.865921974182129|            0|             1|                0|                          0|                    1|                null|\n",
      "|       146246975|   10|Counter-Strike|76561199181550333|                    26|                 7|                   13.0|                             0|                       13|        1695266045| spanish|               increíble experie...|       1694640423|       1694640423|       1|      73|         25|  0.877094924449921|            2|             1|                0|                          0|                    1|                null|\n",
      "|       146229596|   10|Counter-Strike|76561198340297552|                   158|                86|                  152.0|                             0|                      152|        1670102276| russian|               Ребят, выручайте,...|       1694619515|       1694619515|       1|     258|          9|  0.901576459407806|            6|             0|                0|                          0|                    1|                null|\n",
      "|       146183217|   10|Counter-Strike|76561199543857933|                    25|                 1|                   64.0|                             5|                        7|        1698158997|schinese|     春风若有怜香意，可否许我再少年|       1694543946|       1696307935|       1|     435|         14|  0.971292734146118|            0|             1|                0|                          0|                    1|                null|\n",
      "|       146112912|   10|Counter-Strike|76561199186894157|                    84|                12|                  227.0|                             0|                      227|        1692610764| russian|               За каждый лайк на...|       1694436047|       1694436047|       1|     120|         14|   0.85421621799469|            0|             1|                0|                          0|                    1|                null|\n",
      "|       145939573|   10|Counter-Strike|76561198207407649|                     0|                10|               203382.0|                            58|                   203121|        1698348015| russian|                         Олды здесь|       1694209783|       1694209783|       1|      99|          4|  0.850317656993866|            0|             1|                0|                          0|                    1|                null|\n",
      "|       145488424|   10|Counter-Strike|76561199129191489|                    72|                11|                  721.0|                             0|                      649|        1696190675| spanish|               el mejor conter (...|       1693615532|       1693615532|       1|      83|         26|  0.892465829849243|            0|             0|                0|                          0|                    1|                null|\n",
      "|       145476880|   10|Counter-Strike|76561198303133373|                   135|                 8|                38354.0|                             0|                    38354|        1689010809| russian|               Игра моей молодос...|       1693599721|       1693599721|       1|     367|         11|  0.955887079238892|            0|             0|                0|                          0|                    1|                null|\n",
      "|       145002893|   10|Counter-Strike|76561198995972388|                    50|                50|                   81.0|                             0|                       81|        1692978815| english|               best played with ...|       1692985625|       1692985625|       1|     208|         31|  0.935512900352478|            0|             1|                0|                          0|                    1|                null|\n",
      "|       144876246|   10|Counter-Strike|76561199417371904|                    31|                14|                 1830.0|                           177|                      469|        1698330679| russian|               Жена сказала, есл...|       1692818551|       1694663096|       1|     168|         14|  0.844622492790222|            0|             1|                0|                          0|                    1|                null|\n",
      "|       144801901|   10|Counter-Strike|76561199072933419|                    17|                 1|               142905.0|                            84|                   141139|        1698020148| spanish|               Imagínate que sal...|       1692722672|       1692722672|       1|      82|         32|  0.872381985187531|            3|             1|                0|                          0|                    1|                null|\n",
      "|       144577012|   10|Counter-Strike|76561199310162380|                    34|                 9|                  857.0|                           556|                      292|        1698202695| spanish|               paso 1- lo instal...|       1692462770|       1692462770|       1|      86|         31|  0.877578794956207|            0|             1|                0|                          0|                    1|                null|\n",
      "+----------------+-----+--------------+-----------------+----------------------+------------------+-----------------------+------------------------------+-------------------------+------------------+--------+-----------------------------------+-----------------+-----------------+--------+--------+-----------+-------------------+-------------+--------------+-----------------+---------------------------+---------------------+--------------------+\n",
      "only showing top 20 rows\n",
      "\n"
     ]
    },
    {
     "name": "stderr",
     "output_type": "stream",
     "text": [
      "                                                                                \r"
     ]
    }
   ],
   "source": [
    "steamSessionDF = spark.sql(\"\"\"SELECT *\n",
    "                            FROM steam\n",
    "                            WHERE voted_up IN (0,1) \n",
    "                            AND game IS NOT NULL\n",
    "                             \"\"\")\n",
    "steamSessionDF.printSchema()\n",
    "steamSessionDF.show()\n",
    "\n",
    "steamSessionDF.coalesce(1).write.options(header = \"True\", delimiter=\",\").mode(\"overwrite\") \\\n",
    "    .csv(\"file:/home/student/Data/steam_project/correct_steam\")"
   ]
  },
  {
   "cell_type": "code",
   "execution_count": 10,
   "id": "c5c007e5",
   "metadata": {},
   "outputs": [
    {
     "name": "stderr",
     "output_type": "stream",
     "text": [
      "                                                                                \r"
     ]
    },
    {
     "name": "stdout",
     "output_type": "stream",
     "text": [
      "root\n",
      " |-- recommendationid: integer (nullable = true)\n",
      " |-- appid: integer (nullable = true)\n",
      " |-- game: string (nullable = true)\n",
      " |-- author_steamid: long (nullable = true)\n",
      " |-- author_num_games_owned: integer (nullable = true)\n",
      " |-- author_num_reviews: integer (nullable = true)\n",
      " |-- author_playtime_forever: double (nullable = true)\n",
      " |-- author_playtime_last_two_weeks: integer (nullable = true)\n",
      " |-- author_playtime_at_review: integer (nullable = true)\n",
      " |-- author_last_played: integer (nullable = true)\n",
      " |-- language: string (nullable = true)\n",
      " |-- review: string (nullable = true)\n",
      " |-- timestamp_created: integer (nullable = true)\n",
      " |-- timestamp_updated: integer (nullable = true)\n",
      " |-- voted_up: integer (nullable = true)\n",
      " |-- votes_up: integer (nullable = true)\n",
      " |-- votes_funny: long (nullable = true)\n",
      " |-- weighted_vote_score: double (nullable = true)\n",
      " |-- comment_count: integer (nullable = true)\n",
      " |-- steam_purchase: integer (nullable = true)\n",
      " |-- received_for_free: integer (nullable = true)\n",
      " |-- written_during_early_access: integer (nullable = true)\n",
      " |-- hidden_in_steam_china: integer (nullable = true)\n",
      " |-- steam_china_location: string (nullable = true)\n",
      "\n",
      "+----------------+-----+--------------+-----------------+----------------------+------------------+-----------------------+------------------------------+-------------------------+------------------+--------+----------------------------------+-----------------+-----------------+--------+--------+-----------+-------------------+-------------+--------------+-----------------+---------------------------+---------------------+--------------------+\n",
      "|recommendationid|appid|          game|   author_steamid|author_num_games_owned|author_num_reviews|author_playtime_forever|author_playtime_last_two_weeks|author_playtime_at_review|author_last_played|language|                            review|timestamp_created|timestamp_updated|voted_up|votes_up|votes_funny|weighted_vote_score|comment_count|steam_purchase|received_for_free|written_during_early_access|hidden_in_steam_china|steam_china_location|\n",
      "+----------------+-----+--------------+-----------------+----------------------+------------------+-----------------------+------------------------------+-------------------------+------------------+--------+----------------------------------+-----------------+-----------------+--------+--------+-----------+-------------------+-------------+--------------+-----------------+---------------------------+---------------------+--------------------+\n",
      "|       147449116|   10|Counter-Strike|76561199183984450|                    51|                12|                 2548.0|                             0|                     2480|        1696305457|schinese|抛去不开英文输入法就闪退的bug来...|       1696179329|       1696179329|       1|      99|          2|  0.889438092708588|            0|             1|                0|                          0|                    1|                null|\n",
      "+----------------+-----+--------------+-----------------+----------------------+------------------+-----------------------+------------------------------+-------------------------+------------------+--------+----------------------------------+-----------------+-----------------+--------+--------+-----------+-------------------+-------------+--------------+-----------------+---------------------------+---------------------+--------------------+\n",
      "only showing top 1 row\n",
      "\n"
     ]
    }
   ],
   "source": [
    "steamDF = spark.read.option(\"sep\",\",\").option(\"header\", \"true\").option(\"inferSchema\",  \"true\") \\\n",
    "    .csv(\"file:/home/student/Data/steam_project/correct_steam/steam.csv\")\n",
    "steamDF.createOrReplaceTempView(\"steam\")\n",
    "steamDF.printSchema()\n",
    "steamDF.show(1)"
   ]
  },
  {
   "cell_type": "code",
   "execution_count": 11,
   "id": "a145b5aa",
   "metadata": {},
   "outputs": [
    {
     "name": "stdout",
     "output_type": "stream",
     "text": [
      "root\n",
      " |-- count(1): long (nullable = false)\n",
      "\n"
     ]
    },
    {
     "name": "stderr",
     "output_type": "stream",
     "text": [
      "[Stage 22:=============================>                            (2 + 2) / 4]\r"
     ]
    },
    {
     "name": "stdout",
     "output_type": "stream",
     "text": [
      "+--------+\n",
      "|count(1)|\n",
      "+--------+\n",
      "|  441058|\n",
      "+--------+\n",
      "\n"
     ]
    },
    {
     "name": "stderr",
     "output_type": "stream",
     "text": [
      "\r",
      "[Stage 22:===========================================>              (3 + 1) / 4]\r",
      "\r",
      "                                                                                \r"
     ]
    }
   ],
   "source": [
    "steamCountDF = spark.sql(\"\"\"SELECT count(*)\n",
    "                            FROM steam\n",
    "                             \"\"\")\n",
    "steamCountDF.printSchema()\n",
    "steamCountDF.show()"
   ]
  },
  {
   "cell_type": "code",
   "execution_count": 13,
   "id": "560d5624",
   "metadata": {},
   "outputs": [
    {
     "name": "stdout",
     "output_type": "stream",
     "text": [
      "root\n",
      " |-- count(DISTINCT game): long (nullable = false)\n",
      "\n"
     ]
    },
    {
     "name": "stderr",
     "output_type": "stream",
     "text": [
      "[Stage 28:==================================================>   (187 + 3) / 200]\r"
     ]
    },
    {
     "name": "stdout",
     "output_type": "stream",
     "text": [
      "+--------------------+\n",
      "|count(DISTINCT game)|\n",
      "+--------------------+\n",
      "|               24935|\n",
      "+--------------------+\n",
      "\n"
     ]
    },
    {
     "name": "stderr",
     "output_type": "stream",
     "text": [
      "\r",
      "                                                                                \r"
     ]
    }
   ],
   "source": [
    "steamCountGamesDF = spark.sql(\"\"\"SELECT COUNT(DISTINCT game)\n",
    "                                 FROM steam\n",
    "                             \"\"\")\n",
    "steamCountGamesDF.printSchema()\n",
    "steamCountGamesDF.show()"
   ]
  },
  {
   "cell_type": "code",
   "execution_count": 17,
   "id": "d294cb59",
   "metadata": {},
   "outputs": [
    {
     "name": "stdout",
     "output_type": "stream",
     "text": [
      "root\n",
      " |-- count(DISTINCT game): long (nullable = false)\n",
      "\n"
     ]
    },
    {
     "name": "stderr",
     "output_type": "stream",
     "text": [
      "[Stage 47:=============================================>        (170 + 4) / 200]\r"
     ]
    },
    {
     "name": "stdout",
     "output_type": "stream",
     "text": [
      "+--------------------+\n",
      "|count(DISTINCT game)|\n",
      "+--------------------+\n",
      "|               21617|\n",
      "+--------------------+\n",
      "\n"
     ]
    },
    {
     "name": "stderr",
     "output_type": "stream",
     "text": [
      "\r",
      "                                                                                \r"
     ]
    }
   ],
   "source": [
    "steamCountGamesWithoutEADF = spark.sql(\"\"\"SELECT COUNT(DISTINCT game) \n",
    "                                 FROM steam\n",
    "                                 WHERE appid NOT IN (\n",
    "                                    SELECT DISTINCT appid\n",
    "                                    FROM steam\n",
    "                                    WHERE written_during_early_access = 1)\n",
    "                             \"\"\")\n",
    "steamCountGamesWithoutEADF.printSchema()\n",
    "steamCountGamesWithoutEADF.show()"
   ]
  },
  {
   "cell_type": "code",
   "execution_count": 18,
   "id": "1510ddca",
   "metadata": {},
   "outputs": [
    {
     "name": "stdout",
     "output_type": "stream",
     "text": [
      "root\n",
      " |-- count(DISTINCT game): long (nullable = false)\n",
      "\n"
     ]
    },
    {
     "name": "stderr",
     "output_type": "stream",
     "text": [
      "[Stage 52:=========================================>            (154 + 4) / 200]\r"
     ]
    },
    {
     "name": "stdout",
     "output_type": "stream",
     "text": [
      "+--------------------+\n",
      "|count(DISTINCT game)|\n",
      "+--------------------+\n",
      "|                3324|\n",
      "+--------------------+\n",
      "\n"
     ]
    },
    {
     "name": "stderr",
     "output_type": "stream",
     "text": [
      "\r",
      "[Stage 52:====================================================> (193 + 3) / 200]\r",
      "\r",
      "                                                                                \r"
     ]
    }
   ],
   "source": [
    "steamCountGamesWithEADF = spark.sql(\"\"\"SELECT COUNT(DISTINCT game) \n",
    "                                 FROM steam\n",
    "                                 WHERE appid IN (\n",
    "                                    SELECT DISTINCT appid\n",
    "                                    FROM steam\n",
    "                                    WHERE written_during_early_access = 1)\n",
    "                             \"\"\")\n",
    "steamCountGamesWithEADF.printSchema()\n",
    "steamCountGamesWithEADF.show()"
   ]
  },
  {
   "cell_type": "code",
   "execution_count": 20,
   "id": "b52bc71d",
   "metadata": {},
   "outputs": [
    {
     "name": "stdout",
     "output_type": "stream",
     "text": [
      "root\n",
      " |-- avg(voted_up): double (nullable = true)\n",
      "\n"
     ]
    },
    {
     "name": "stderr",
     "output_type": "stream",
     "text": [
      "[Stage 56:=============================>                            (2 + 2) / 4]\r"
     ]
    },
    {
     "name": "stdout",
     "output_type": "stream",
     "text": [
      "+-----------------+\n",
      "|    avg(voted_up)|\n",
      "+-----------------+\n",
      "|0.854798520194884|\n",
      "+-----------------+\n",
      "\n"
     ]
    },
    {
     "name": "stderr",
     "output_type": "stream",
     "text": [
      "\r",
      "                                                                                \r"
     ]
    }
   ],
   "source": [
    "steamAVGRatesWithoutEADF = spark.sql(\"\"\"SELECT AVG(voted_up) \n",
    "                                 FROM steam\n",
    "                                 WHERE appid NOT IN (\n",
    "                                    SELECT DISTINCT appid\n",
    "                                    FROM steam\n",
    "                                    WHERE written_during_early_access = 1)\n",
    "                             \"\"\")\n",
    "steamAVGRatesWithoutEADF.printSchema()\n",
    "steamAVGRatesWithoutEADF.show()"
   ]
  },
  {
   "cell_type": "code",
   "execution_count": 22,
   "id": "f357be56",
   "metadata": {},
   "outputs": [
    {
     "name": "stdout",
     "output_type": "stream",
     "text": [
      "root\n",
      " |-- avg(voted_up): double (nullable = true)\n",
      "\n"
     ]
    },
    {
     "name": "stderr",
     "output_type": "stream",
     "text": [
      "[Stage 64:=============================================>        (168 + 2) / 200]\r"
     ]
    },
    {
     "name": "stdout",
     "output_type": "stream",
     "text": [
      "+------------------+\n",
      "|     avg(voted_up)|\n",
      "+------------------+\n",
      "|0.8707621182404035|\n",
      "+------------------+\n",
      "\n"
     ]
    },
    {
     "name": "stderr",
     "output_type": "stream",
     "text": [
      "\r",
      "[Stage 64:==================================================>   (186 + 2) / 200]\r",
      "\r",
      "                                                                                \r"
     ]
    }
   ],
   "source": [
    "steamAVGRatesWithEADF = spark.sql(\"\"\"SELECT AVG(voted_up) \n",
    "                                 FROM steam\n",
    "                                 WHERE appid IN (\n",
    "                                    SELECT DISTINCT appid\n",
    "                                    FROM steam\n",
    "                                    WHERE written_during_early_access = 1)\n",
    "                             \"\"\")\n",
    "steamAVGRatesWithEADF.printSchema()\n",
    "steamAVGRatesWithEADF.show()"
   ]
  },
  {
   "cell_type": "code",
   "execution_count": 23,
   "id": "966ca435",
   "metadata": {},
   "outputs": [
    {
     "name": "stdout",
     "output_type": "stream",
     "text": [
      "root\n",
      " |-- avg(voted_up): double (nullable = true)\n",
      "\n"
     ]
    },
    {
     "name": "stderr",
     "output_type": "stream",
     "text": [
      "[Stage 68:===============================================>      (175 + 2) / 200]\r"
     ]
    },
    {
     "name": "stdout",
     "output_type": "stream",
     "text": [
      "+------------------+\n",
      "|     avg(voted_up)|\n",
      "+------------------+\n",
      "|0.8619422370167978|\n",
      "+------------------+\n",
      "\n"
     ]
    },
    {
     "name": "stderr",
     "output_type": "stream",
     "text": [
      "\r",
      "                                                                                \r"
     ]
    }
   ],
   "source": [
    "steamAVGRatesWithEABeforeDF = spark.sql(\"\"\"SELECT AVG(voted_up) \n",
    "                                 FROM steam\n",
    "                                 WHERE appid IN (\n",
    "                                    SELECT DISTINCT appid\n",
    "                                    FROM steam\n",
    "                                    WHERE written_during_early_access = 1)\n",
    "                                 AND written_during_early_access = 1   \n",
    "                             \"\"\")\n",
    "steamAVGRatesWithEABeforeDF.printSchema()\n",
    "steamAVGRatesWithEABeforeDF.show()"
   ]
  },
  {
   "cell_type": "code",
   "execution_count": 24,
   "id": "08bf2ce2",
   "metadata": {},
   "outputs": [
    {
     "name": "stdout",
     "output_type": "stream",
     "text": [
      "root\n",
      " |-- avg(voted_up): double (nullable = true)\n",
      "\n"
     ]
    },
    {
     "name": "stderr",
     "output_type": "stream",
     "text": [
      "[Stage 72:===============================================>      (176 + 3) / 200]\r"
     ]
    },
    {
     "name": "stdout",
     "output_type": "stream",
     "text": [
      "+------------------+\n",
      "|     avg(voted_up)|\n",
      "+------------------+\n",
      "|0.8803194262004546|\n",
      "+------------------+\n",
      "\n"
     ]
    },
    {
     "name": "stderr",
     "output_type": "stream",
     "text": [
      "\r",
      "                                                                                \r"
     ]
    }
   ],
   "source": [
    "steamAVGRatesWithEAAfterDF = spark.sql(\"\"\"SELECT AVG(voted_up) \n",
    "                                 FROM steam\n",
    "                                 WHERE appid IN (\n",
    "                                    SELECT DISTINCT appid\n",
    "                                    FROM steam\n",
    "                                    WHERE written_during_early_access = 1)\n",
    "                                 AND written_during_early_access = 0   \n",
    "                             \"\"\")\n",
    "steamAVGRatesWithEAAfterDF.printSchema()\n",
    "steamAVGRatesWithEAAfterDF.show()"
   ]
  },
  {
   "cell_type": "code",
   "execution_count": 25,
   "id": "2d44b487",
   "metadata": {},
   "outputs": [
    {
     "name": "stdout",
     "output_type": "stream",
     "text": [
      "root\n",
      " |-- game: string (nullable = true)\n",
      " |-- count_reviews: long (nullable = false)\n",
      " |-- avg_rating: double (nullable = true)\n",
      "\n"
     ]
    },
    {
     "name": "stderr",
     "output_type": "stream",
     "text": [
      "                                                                                \r"
     ]
    },
    {
     "name": "stdout",
     "output_type": "stream",
     "text": [
      "+--------------------+-------------+------------------+\n",
      "|                game|count_reviews|        avg_rating|\n",
      "+--------------------+-------------+------------------+\n",
      "|    Counter-Strike 2|         2754|0.8591140159767611|\n",
      "|      Stardew Valley|         2078|0.9980750721847931|\n",
      "|            Terraria|         1800|0.9938888888888889|\n",
      "|Tom Clancy's Rain...|         1755|0.9002849002849003|\n",
      "|  Grand Theft Auto V|         1754|0.6995438996579247|\n",
      "|The Witcher 3: Wi...|         1664|0.9927884615384616|\n",
      "|Red Dead Redempti...|         1414|0.9356435643564357|\n",
      "|         Garry's Mod|         1382|0.9971056439942113|\n",
      "|       Left 4 Dead 2|         1243|               1.0|\n",
      "|Euro Truck Simula...|         1215|0.9975308641975309|\n",
      "|            PAYDAY 2|         1185|0.9181434599156119|\n",
      "|            Warframe|         1174|0.9011925042589438|\n",
      "|      Cyberpunk 2077|         1165|0.8523605150214593|\n",
      "|The Elder Scrolls...|         1149|0.9103568320278503|\n",
      "|        No Man's Sky|         1114|  0.86983842010772|\n",
      "|    Dead by Daylight|         1091|0.8331805682859762|\n",
      "|           Undertale|         1069|0.9962581852198317|\n",
      "|Sekiro™: Shadows ...|         1064|0.9830827067669173|\n",
      "|Sid Meier's Civil...|         1061|0.7445805843543827|\n",
      "|Doki Doki Literat...|         1017|0.9970501474926253|\n",
      "+--------------------+-------------+------------------+\n",
      "only showing top 20 rows\n",
      "\n"
     ]
    },
    {
     "name": "stderr",
     "output_type": "stream",
     "text": [
      "                                                                                \r"
     ]
    }
   ],
   "source": [
    "steamSessionGroupGamesWithoutEADF = spark.sql(\"\"\"SELECT game, COUNT(voted_up) AS count_reviews , AVG(voted_up) AS avg_rating\n",
    "                            FROM steam\n",
    "                            WHERE appid NOT IN (\n",
    "                                    SELECT DISTINCT appid\n",
    "                                    FROM steam\n",
    "                                    WHERE written_during_early_access = 1)\n",
    "                            GROUP BY game\n",
    "                            ORDER BY COUNT(game) DESC\n",
    "                             \"\"\")\n",
    "steamSessionGroupGamesWithoutEADF.printSchema()\n",
    "steamSessionGroupGamesWithoutEADF.show()\n",
    "\n",
    "steamSessionGroupGamesWithoutEADF.coalesce(1).write.options(header = \"True\", delimiter=\",\").mode(\"overwrite\") \\\n",
    "    .csv(\"file:/home/student/Data/steam_project/steam_without_early_access\")"
   ]
  },
  {
   "cell_type": "code",
   "execution_count": 26,
   "id": "7b96d901",
   "metadata": {},
   "outputs": [
    {
     "name": "stdout",
     "output_type": "stream",
     "text": [
      "root\n",
      " |-- game: string (nullable = true)\n",
      " |-- count_reviews: long (nullable = false)\n",
      " |-- avg_rating: double (nullable = true)\n",
      "\n"
     ]
    },
    {
     "name": "stderr",
     "output_type": "stream",
     "text": [
      "                                                                                \r"
     ]
    },
    {
     "name": "stdout",
     "output_type": "stream",
     "text": [
      "+--------------------+-------------+-------------------+\n",
      "|                game|count_reviews|         avg_rating|\n",
      "+--------------------+-------------+-------------------+\n",
      "| PUBG: BATTLEGROUNDS|         2192|0.47764598540145986|\n",
      "|          The Forest|         1712|  0.991822429906542|\n",
      "|    Wallpaper Engine|         1623| 0.9741219963031423|\n",
      "|                Rust|         1473| 0.8615071283095723|\n",
      "|                DayZ|         1209| 0.6782464846980976|\n",
      "|          Subnautica|         1200| 0.9991666666666666|\n",
      "|ARK: Survival Evo...|         1157| 0.8150388936905791|\n",
      "|            RimWorld|         1156| 0.9991349480968859|\n",
      "|Don't Starve Toge...|          985| 0.9989847715736041|\n",
      "|     Project Zomboid|          980| 0.9653061224489796|\n",
      "|Mount & Blade II:...|          960|           0.903125|\n",
      "|        Phasmophobia|          959| 0.9989572471324296|\n",
      "|       7 Days to Die|          902|  0.934589800443459|\n",
      "|              Mirror|          900|                1.0|\n",
      "|               Squad|          876| 0.9189497716894978|\n",
      "|     Baldur's Gate 3|          865| 0.9965317919075144|\n",
      "|                Raft|          794| 0.9659949622166247|\n",
      "|            Factorio|          792| 0.9861111111111112|\n",
      "|       The Long Dark|          785| 0.9808917197452229|\n",
      "|              Kenshi|          765|  0.996078431372549|\n",
      "+--------------------+-------------+-------------------+\n",
      "only showing top 20 rows\n",
      "\n"
     ]
    },
    {
     "name": "stderr",
     "output_type": "stream",
     "text": [
      "                                                                                \r"
     ]
    }
   ],
   "source": [
    "steamSessionGroupGamesWithEADF = spark.sql(\"\"\"SELECT game, COUNT(voted_up) AS count_reviews , AVG(voted_up) AS avg_rating\n",
    "                            FROM steam\n",
    "                            WHERE appid IN (\n",
    "                                    SELECT DISTINCT appid\n",
    "                                    FROM steam\n",
    "                                    WHERE written_during_early_access = 1)\n",
    "                            GROUP BY game\n",
    "                            ORDER BY COUNT(game) DESC\n",
    "                             \"\"\")\n",
    "steamSessionGroupGamesWithEADF.printSchema()\n",
    "steamSessionGroupGamesWithEADF.show()\n",
    "\n",
    "steamSessionGroupGamesWithEADF.coalesce(1).write.options(header = \"True\", delimiter=\",\").mode(\"overwrite\") \\\n",
    "    .csv(\"file:/home/student/Data/steam_project/steam_with_early_access\")"
   ]
  },
  {
   "cell_type": "code",
   "execution_count": 27,
   "id": "f523f629",
   "metadata": {},
   "outputs": [
    {
     "name": "stderr",
     "output_type": "stream",
     "text": [
      "                                                                                \r"
     ]
    },
    {
     "name": "stdout",
     "output_type": "stream",
     "text": [
      "root\n",
      " |-- game: string (nullable = true)\n",
      " |-- count_reviews: integer (nullable = true)\n",
      " |-- avg_rating: double (nullable = true)\n",
      "\n",
      "+----------------+-------------+------------------+\n",
      "|            game|count_reviews|        avg_rating|\n",
      "+----------------+-------------+------------------+\n",
      "|Counter-Strike 2|         2754|0.8591140159767611|\n",
      "+----------------+-------------+------------------+\n",
      "only showing top 1 row\n",
      "\n"
     ]
    }
   ],
   "source": [
    "steamWithoutEADF = spark.read.option(\"sep\",\",\").option(\"header\", \"true\").option(\"inferSchema\",  \"true\") \\\n",
    "    .csv(\"file:/home/student/Data/steam_project/steam_without_early_access/steam_without_ea.csv\")\n",
    "steamWithoutEADF.createOrReplaceTempView(\"steam_without_ea\")\n",
    "steamWithoutEADF.printSchema()\n",
    "steamWithoutEADF.show(1)"
   ]
  },
  {
   "cell_type": "code",
   "execution_count": 28,
   "id": "76d29061",
   "metadata": {},
   "outputs": [
    {
     "name": "stdout",
     "output_type": "stream",
     "text": [
      "root\n",
      " |-- game: string (nullable = true)\n",
      " |-- count_reviews: integer (nullable = true)\n",
      " |-- avg_rating: double (nullable = true)\n",
      "\n",
      "+-------------------+-------------+-------------------+\n",
      "|               game|count_reviews|         avg_rating|\n",
      "+-------------------+-------------+-------------------+\n",
      "|PUBG: BATTLEGROUNDS|         2192|0.47764598540145986|\n",
      "+-------------------+-------------+-------------------+\n",
      "only showing top 1 row\n",
      "\n"
     ]
    }
   ],
   "source": [
    "steamWithEADF = spark.read.option(\"sep\",\",\").option(\"header\", \"true\").option(\"inferSchema\",  \"true\") \\\n",
    "    .csv(\"file:/home/student/Data/steam_project/steam_with_early_access/steam_with_ea.csv\")\n",
    "steamWithEADF.createOrReplaceTempView(\"steam_with_ea\")\n",
    "steamWithEADF.printSchema()\n",
    "steamWithEADF.show(1)"
   ]
  },
  {
   "cell_type": "code",
   "execution_count": 29,
   "id": "e5e28930",
   "metadata": {},
   "outputs": [
    {
     "name": "stdout",
     "output_type": "stream",
     "text": [
      "root\n",
      " |-- count(1): long (nullable = false)\n",
      "\n"
     ]
    },
    {
     "name": "stderr",
     "output_type": "stream",
     "text": [
      "\r",
      "[Stage 104:>                                                        (0 + 1) / 1]\r"
     ]
    },
    {
     "name": "stdout",
     "output_type": "stream",
     "text": [
      "+--------+\n",
      "|count(1)|\n",
      "+--------+\n",
      "|   21617|\n",
      "+--------+\n",
      "\n"
     ]
    },
    {
     "name": "stderr",
     "output_type": "stream",
     "text": [
      "\r",
      "                                                                                \r"
     ]
    }
   ],
   "source": [
    "steamCountWithoutEADF = spark.sql(\"\"\"SELECT count(*)\n",
    "                            FROM steam_without_ea\n",
    "                             \"\"\")\n",
    "steamCountWithoutEADF.printSchema()\n",
    "steamCountWithoutEADF.show()"
   ]
  },
  {
   "cell_type": "code",
   "execution_count": 30,
   "id": "89964b60",
   "metadata": {},
   "outputs": [
    {
     "name": "stdout",
     "output_type": "stream",
     "text": [
      "root\n",
      " |-- count(1): long (nullable = false)\n",
      "\n",
      "+--------+\n",
      "|count(1)|\n",
      "+--------+\n",
      "|    3324|\n",
      "+--------+\n",
      "\n"
     ]
    }
   ],
   "source": [
    "steamCountWithEADF = spark.sql(\"\"\"SELECT count(*)\n",
    "                            FROM steam_with_ea\n",
    "                             \"\"\")\n",
    "steamCountWithEADF.printSchema()\n",
    "steamCountWithEADF.show()"
   ]
  },
  {
   "cell_type": "code",
   "execution_count": 31,
   "id": "a47936e3",
   "metadata": {},
   "outputs": [
    {
     "name": "stdout",
     "output_type": "stream",
     "text": [
      "root\n",
      " |-- avg(count_reviews): double (nullable = true)\n",
      "\n"
     ]
    },
    {
     "name": "stderr",
     "output_type": "stream",
     "text": [
      "[Stage 108:>                                                        (0 + 1) / 1]\r"
     ]
    },
    {
     "name": "stdout",
     "output_type": "stream",
     "text": [
      "+------------------+\n",
      "|avg(count_reviews)|\n",
      "+------------------+\n",
      "|15.780450571309617|\n",
      "+------------------+\n",
      "\n"
     ]
    },
    {
     "name": "stderr",
     "output_type": "stream",
     "text": [
      "\r",
      "                                                                                \r"
     ]
    }
   ],
   "source": [
    "steamAvgCountRatesWithoutEADF = spark.sql(\"\"\"SELECT avg(count_reviews)\n",
    "                            FROM steam_without_ea\n",
    "                             \"\"\")\n",
    "steamAvgCountRatesWithoutEADF.printSchema()\n",
    "steamAvgCountRatesWithoutEADF.show()"
   ]
  },
  {
   "cell_type": "code",
   "execution_count": 32,
   "id": "1190984f",
   "metadata": {},
   "outputs": [
    {
     "name": "stdout",
     "output_type": "stream",
     "text": [
      "root\n",
      " |-- avg(count_reviews): double (nullable = true)\n",
      "\n",
      "+------------------+\n",
      "|avg(count_reviews)|\n",
      "+------------------+\n",
      "|30.063778580024067|\n",
      "+------------------+\n",
      "\n"
     ]
    }
   ],
   "source": [
    "steamAvgCountRatesWithEADF = spark.sql(\"\"\"SELECT avg(count_reviews)\n",
    "                            FROM steam_with_ea\n",
    "                             \"\"\")\n",
    "steamAvgCountRatesWithEADF.printSchema()\n",
    "steamAvgCountRatesWithEADF.show()"
   ]
  },
  {
   "cell_type": "code",
   "execution_count": 40,
   "id": "4db3defb",
   "metadata": {},
   "outputs": [
    {
     "name": "stdout",
     "output_type": "stream",
     "text": [
      "root\n",
      " |-- game: string (nullable = true)\n",
      " |-- count_reviews: long (nullable = false)\n",
      " |-- avg_rating: double (nullable = true)\n",
      "\n"
     ]
    },
    {
     "name": "stderr",
     "output_type": "stream",
     "text": [
      "                                                                                \r"
     ]
    },
    {
     "name": "stdout",
     "output_type": "stream",
     "text": [
      "+--------------------+-------------+-------------------+\n",
      "|                game|count_reviews|         avg_rating|\n",
      "+--------------------+-------------+-------------------+\n",
      "| PUBG: BATTLEGROUNDS|         1946|0.45477903391572455|\n",
      "|    Wallpaper Engine|         1422| 0.9711673699015471|\n",
      "|          The Forest|         1413| 0.9922151450813871|\n",
      "|                Rust|         1171| 0.8684884713919727|\n",
      "|          Subnautica|         1004|  0.999003984063745|\n",
      "|            RimWorld|          942| 0.9989384288747346|\n",
      "|ARK: Survival Evo...|          937|  0.855923159018143|\n",
      "|Don't Starve Toge...|          924| 0.9989177489177489|\n",
      "|              Mirror|          816|                1.0|\n",
      "|                DayZ|          808| 0.7673267326732673|\n",
      "|              Kenshi|          733| 0.9959072305593452|\n",
      "|Divinity: Origina...|          710| 0.9985915492957746|\n",
      "|       The Long Dark|          613| 0.9755301794453507|\n",
      "|               Squad|          607|  0.914332784184514|\n",
      "|            Unturned|          551|  0.956442831215971|\n",
      "|  Deep Rock Galactic|          546| 0.9945054945054945|\n",
      "|    Darkest Dungeon®|          528| 0.9715909090909091|\n",
      "|               Hades|          506| 0.9960474308300395|\n",
      "|      Hunt: Showdown|          502| 0.8924302788844621|\n",
      "|          Green Hell|          456| 0.9736842105263158|\n",
      "+--------------------+-------------+-------------------+\n",
      "only showing top 20 rows\n",
      "\n"
     ]
    },
    {
     "name": "stderr",
     "output_type": "stream",
     "text": [
      "                                                                                \r"
     ]
    }
   ],
   "source": [
    "steamSessionGroupGamesWithEAAfterDF = spark.sql(\"\"\"SELECT game, COUNT(voted_up) AS count_reviews, AVG(voted_up) AS avg_rating\n",
    "                            FROM steam\n",
    "                            WHERE appid IN (\n",
    "                                    SELECT DISTINCT appid\n",
    "                                    FROM steam\n",
    "                                    WHERE written_during_early_access = 1)\n",
    "                            AND written_during_early_access = 0\n",
    "                            GROUP BY game\n",
    "                            ORDER BY COUNT(game) DESC\n",
    "                             \"\"\")\n",
    "steamSessionGroupGamesWithEAAfterDF.printSchema()\n",
    "steamSessionGroupGamesWithEAAfterDF.show()\n",
    "\n",
    "steamSessionGroupGamesWithEAAfterDF.coalesce(1).write.options(header = \"True\", delimiter=\",\").mode(\"overwrite\") \\\n",
    "    .csv(\"file:/home/student/Data/steam_project/steam_with_early_access_after\")"
   ]
  },
  {
   "cell_type": "code",
   "execution_count": 41,
   "id": "0bb09ef0",
   "metadata": {},
   "outputs": [
    {
     "name": "stderr",
     "output_type": "stream",
     "text": [
      "\r",
      "[Stage 158:>                                                        (0 + 1) / 1]\r",
      "\r",
      "                                                                                \r"
     ]
    },
    {
     "name": "stdout",
     "output_type": "stream",
     "text": [
      "root\n",
      " |-- game: string (nullable = true)\n",
      " |-- count_reviews: integer (nullable = true)\n",
      " |-- avg_rating: double (nullable = true)\n",
      "\n",
      "+-------------------+-------------+-------------------+\n",
      "|               game|count_reviews|         avg_rating|\n",
      "+-------------------+-------------+-------------------+\n",
      "|PUBG: BATTLEGROUNDS|         1946|0.45477903391572455|\n",
      "+-------------------+-------------+-------------------+\n",
      "only showing top 1 row\n",
      "\n"
     ]
    }
   ],
   "source": [
    "steamWithEAAfterDF = spark.read.option(\"sep\",\",\").option(\"header\", \"true\").option(\"inferSchema\",  \"true\") \\\n",
    "    .csv(\"file:/home/student/Data/steam_project/steam_with_early_access_after/steam_with_ea_after.csv\")\n",
    "steamWithEAAfterDF.createOrReplaceTempView(\"steam_with_ea_after\")\n",
    "steamWithEAAfterDF.printSchema()\n",
    "steamWithEAAfterDF.show(1)"
   ]
  },
  {
   "cell_type": "code",
   "execution_count": 42,
   "id": "0b75df57",
   "metadata": {},
   "outputs": [
    {
     "name": "stdout",
     "output_type": "stream",
     "text": [
      "root\n",
      " |-- count(1): long (nullable = false)\n",
      "\n",
      "+--------+\n",
      "|count(1)|\n",
      "+--------+\n",
      "|    1181|\n",
      "+--------+\n",
      "\n"
     ]
    }
   ],
   "source": [
    "steamCountWithEAAfterDF = spark.sql(\"\"\"SELECT count(*)\n",
    "                            FROM steam_with_ea_after\n",
    "                             \"\"\")\n",
    "steamCountWithEAAfterDF.printSchema()\n",
    "steamCountWithEAAfterDF.show()"
   ]
  },
  {
   "cell_type": "code",
   "execution_count": 43,
   "id": "3ed04454",
   "metadata": {},
   "outputs": [
    {
     "name": "stdout",
     "output_type": "stream",
     "text": [
      "root\n",
      " |-- count(1): long (nullable = false)\n",
      "\n",
      "+--------+\n",
      "|count(1)|\n",
      "+--------+\n",
      "|     232|\n",
      "+--------+\n",
      "\n"
     ]
    }
   ],
   "source": [
    "steamCountWithEAAfterMore30DF = spark.sql(\"\"\"SELECT count(*)\n",
    "                            FROM steam_with_ea_after\n",
    "                            WHERE count_reviews > 30\n",
    "                             \"\"\")\n",
    "steamCountWithEAAfterMore30DF.printSchema()\n",
    "steamCountWithEAAfterMore30DF.show()"
   ]
  },
  {
   "cell_type": "code",
   "execution_count": 44,
   "id": "75daebe3",
   "metadata": {},
   "outputs": [
    {
     "name": "stdout",
     "output_type": "stream",
     "text": [
      "root\n",
      " |-- count(1): long (nullable = false)\n",
      "\n"
     ]
    },
    {
     "name": "stderr",
     "output_type": "stream",
     "text": [
      "\r",
      "[Stage 164:>                                                        (0 + 1) / 1]\r"
     ]
    },
    {
     "name": "stdout",
     "output_type": "stream",
     "text": [
      "+--------+\n",
      "|count(1)|\n",
      "+--------+\n",
      "|    1917|\n",
      "+--------+\n",
      "\n"
     ]
    },
    {
     "name": "stderr",
     "output_type": "stream",
     "text": [
      "\r",
      "                                                                                \r"
     ]
    }
   ],
   "source": [
    "steamCountWithoutEAMore30DF = spark.sql(\"\"\"SELECT count(*)\n",
    "                            FROM steam_without_ea\n",
    "                            WHERE count_reviews > 30\n",
    "                             \"\"\")\n",
    "steamCountWithoutEAMore30DF.printSchema()\n",
    "steamCountWithoutEAMore30DF.show()"
   ]
  },
  {
   "cell_type": "code",
   "execution_count": 45,
   "id": "09cf1b68",
   "metadata": {},
   "outputs": [
    {
     "name": "stdout",
     "output_type": "stream",
     "text": [
      "root\n",
      " |-- avg(avg_rating): double (nullable = true)\n",
      "\n"
     ]
    },
    {
     "name": "stderr",
     "output_type": "stream",
     "text": [
      "\r",
      "[Stage 166:>                                                        (0 + 1) / 1]\r"
     ]
    },
    {
     "name": "stdout",
     "output_type": "stream",
     "text": [
      "+------------------+\n",
      "|   avg(avg_rating)|\n",
      "+------------------+\n",
      "|0.8701199984976935|\n",
      "+------------------+\n",
      "\n"
     ]
    },
    {
     "name": "stderr",
     "output_type": "stream",
     "text": [
      "\r",
      "                                                                                \r"
     ]
    }
   ],
   "source": [
    "steamAvgRatingWithEAAfterMore30DF = spark.sql(\"\"\"SELECT avg(avg_rating)\n",
    "                            FROM steam_with_ea_after\n",
    "                            WHERE count_reviews > 30\n",
    "                             \"\"\")\n",
    "steamAvgRatingWithEAAfterMore30DF.printSchema()\n",
    "steamAvgRatingWithEAAfterMore30DF.show()"
   ]
  },
  {
   "cell_type": "code",
   "execution_count": 46,
   "id": "8d804645",
   "metadata": {},
   "outputs": [
    {
     "name": "stdout",
     "output_type": "stream",
     "text": [
      "root\n",
      " |-- avg(avg_rating): double (nullable = true)\n",
      "\n"
     ]
    },
    {
     "name": "stderr",
     "output_type": "stream",
     "text": [
      "\r",
      "[Stage 168:>                                                        (0 + 1) / 1]\r"
     ]
    },
    {
     "name": "stdout",
     "output_type": "stream",
     "text": [
      "+------------------+\n",
      "|   avg(avg_rating)|\n",
      "+------------------+\n",
      "|0.8541110053684383|\n",
      "+------------------+\n",
      "\n"
     ]
    },
    {
     "name": "stderr",
     "output_type": "stream",
     "text": [
      "\r",
      "                                                                                \r"
     ]
    }
   ],
   "source": [
    "steamAvgRatingWithoutEAMore30DF = spark.sql(\"\"\"SELECT avg(avg_rating)\n",
    "                            FROM steam_without_ea\n",
    "                            WHERE count_reviews > 30\n",
    "                             \"\"\")\n",
    "steamAvgRatingWithoutEAMore30DF.printSchema()\n",
    "steamAvgRatingWithoutEAMore30DF.show()"
   ]
  },
  {
   "cell_type": "code",
   "execution_count": 52,
   "id": "90c95e6f",
   "metadata": {},
   "outputs": [
    {
     "name": "stdout",
     "output_type": "stream",
     "text": [
      "root\n",
      " |-- game: string (nullable = true)\n",
      " |-- count_reviews: integer (nullable = true)\n",
      " |-- avg_rating: double (nullable = true)\n",
      "\n",
      "+--------------------+-------------+-------------------+\n",
      "|                game|count_reviews|         avg_rating|\n",
      "+--------------------+-------------+-------------------+\n",
      "| PUBG: BATTLEGROUNDS|         1946|0.45477903391572455|\n",
      "|    Wallpaper Engine|         1422| 0.9711673699015471|\n",
      "|          The Forest|         1413| 0.9922151450813871|\n",
      "|                Rust|         1171| 0.8684884713919727|\n",
      "|          Subnautica|         1004|  0.999003984063745|\n",
      "|            RimWorld|          942| 0.9989384288747346|\n",
      "|ARK: Survival Evo...|          937|  0.855923159018143|\n",
      "|Don't Starve Toge...|          924| 0.9989177489177489|\n",
      "|              Mirror|          816|                1.0|\n",
      "|                DayZ|          808| 0.7673267326732673|\n",
      "|              Kenshi|          733| 0.9959072305593452|\n",
      "|Divinity: Origina...|          710| 0.9985915492957746|\n",
      "|       The Long Dark|          613| 0.9755301794453507|\n",
      "|               Squad|          607|  0.914332784184514|\n",
      "|            Unturned|          551|  0.956442831215971|\n",
      "|  Deep Rock Galactic|          546| 0.9945054945054945|\n",
      "|    Darkest Dungeon®|          528| 0.9715909090909091|\n",
      "|               Hades|          506| 0.9960474308300395|\n",
      "|      Hunt: Showdown|          502| 0.8924302788844621|\n",
      "|          Green Hell|          456| 0.9736842105263158|\n",
      "+--------------------+-------------+-------------------+\n",
      "only showing top 20 rows\n",
      "\n"
     ]
    }
   ],
   "source": [
    "steamSessionGroupGamesWithEAAfterTop100DF = spark.sql(\"\"\"SELECT *\n",
    "                            FROM steam_with_ea_after\n",
    "                            LIMIT 100\n",
    "                             \"\"\")\n",
    "steamSessionGroupGamesWithEAAfterTop100DF.printSchema()\n",
    "steamSessionGroupGamesWithEAAfterTop100DF.show()\n",
    "\n",
    "steamSessionGroupGamesWithEAAfterTop100DF.coalesce(1).write.options(header = \"True\", delimiter=\",\").mode(\"overwrite\") \\\n",
    "    .csv(\"file:/home/student/Data/steam_project/steam_with_early_access_after_top100\")"
   ]
  },
  {
   "cell_type": "code",
   "execution_count": 53,
   "id": "aa696b29",
   "metadata": {},
   "outputs": [
    {
     "name": "stdout",
     "output_type": "stream",
     "text": [
      "root\n",
      " |-- game: string (nullable = true)\n",
      " |-- count_reviews: integer (nullable = true)\n",
      " |-- avg_rating: double (nullable = true)\n",
      "\n",
      "+--------------------+-------------+------------------+\n",
      "|                game|count_reviews|        avg_rating|\n",
      "+--------------------+-------------+------------------+\n",
      "|    Counter-Strike 2|         2754|0.8591140159767611|\n",
      "|      Stardew Valley|         2078|0.9980750721847931|\n",
      "|            Terraria|         1800|0.9938888888888889|\n",
      "|Tom Clancy's Rain...|         1755|0.9002849002849003|\n",
      "|  Grand Theft Auto V|         1754|0.6995438996579247|\n",
      "|The Witcher 3: Wi...|         1664|0.9927884615384616|\n",
      "|Red Dead Redempti...|         1414|0.9356435643564357|\n",
      "|         Garry's Mod|         1382|0.9971056439942113|\n",
      "|       Left 4 Dead 2|         1243|               1.0|\n",
      "|Euro Truck Simula...|         1215|0.9975308641975309|\n",
      "|            PAYDAY 2|         1185|0.9181434599156119|\n",
      "|            Warframe|         1174|0.9011925042589438|\n",
      "|      Cyberpunk 2077|         1165|0.8523605150214593|\n",
      "|The Elder Scrolls...|         1149|0.9103568320278503|\n",
      "|        No Man's Sky|         1114|  0.86983842010772|\n",
      "|    Dead by Daylight|         1091|0.8331805682859762|\n",
      "|           Undertale|         1069|0.9962581852198317|\n",
      "|Sekiro™: Shadows ...|         1064|0.9830827067669173|\n",
      "|Sid Meier's Civil...|         1061|0.7445805843543827|\n",
      "|Doki Doki Literat...|         1017|0.9970501474926253|\n",
      "+--------------------+-------------+------------------+\n",
      "only showing top 20 rows\n",
      "\n"
     ]
    }
   ],
   "source": [
    "steamSessionGroupGamesWithoutEATop100DF = spark.sql(\"\"\"SELECT *\n",
    "                            FROM steam_without_ea\n",
    "                            LIMIT 100\n",
    "                             \"\"\")\n",
    "steamSessionGroupGamesWithoutEATop100DF.printSchema()\n",
    "steamSessionGroupGamesWithoutEATop100DF.show()\n",
    "\n",
    "steamSessionGroupGamesWithoutEATop100DF.coalesce(1).write.options(header = \"True\", delimiter=\",\").mode(\"overwrite\") \\\n",
    "    .csv(\"file:/home/student/Data/steam_project/steam_without_early_access_top100\")"
   ]
  },
  {
   "cell_type": "code",
   "execution_count": 54,
   "id": "1c8f8d59",
   "metadata": {},
   "outputs": [
    {
     "name": "stdout",
     "output_type": "stream",
     "text": [
      "root\n",
      " |-- game: string (nullable = true)\n",
      " |-- count_reviews: integer (nullable = true)\n",
      " |-- avg_rating: double (nullable = true)\n",
      "\n",
      "+-------------------+-------------+-------------------+\n",
      "|               game|count_reviews|         avg_rating|\n",
      "+-------------------+-------------+-------------------+\n",
      "|PUBG: BATTLEGROUNDS|         1946|0.45477903391572455|\n",
      "+-------------------+-------------+-------------------+\n",
      "only showing top 1 row\n",
      "\n"
     ]
    }
   ],
   "source": [
    "steamWithEAAfterTop100DF = spark.read.option(\"sep\",\",\").option(\"header\", \"true\").option(\"inferSchema\",  \"true\") \\\n",
    "    .csv(\"file:/home/student/Data/steam_project/steam_with_early_access_after_top100/steam_with_ea_after_top100.csv\")\n",
    "steamWithEAAfterTop100DF.createOrReplaceTempView(\"steam_with_ea_after100\")\n",
    "steamWithEAAfterTop100DF.printSchema()\n",
    "steamWithEAAfterTop100DF.show(1)"
   ]
  },
  {
   "cell_type": "code",
   "execution_count": 55,
   "id": "caa1e515",
   "metadata": {},
   "outputs": [
    {
     "name": "stdout",
     "output_type": "stream",
     "text": [
      "root\n",
      " |-- game: string (nullable = true)\n",
      " |-- count_reviews: integer (nullable = true)\n",
      " |-- avg_rating: double (nullable = true)\n",
      "\n",
      "+----------------+-------------+------------------+\n",
      "|            game|count_reviews|        avg_rating|\n",
      "+----------------+-------------+------------------+\n",
      "|Counter-Strike 2|         2754|0.8591140159767611|\n",
      "+----------------+-------------+------------------+\n",
      "only showing top 1 row\n",
      "\n"
     ]
    }
   ],
   "source": [
    "steamWithoutEATop100DF = spark.read.option(\"sep\",\",\").option(\"header\", \"true\").option(\"inferSchema\",  \"true\") \\\n",
    "    .csv(\"file:/home/student/Data/steam_project/steam_without_early_access_top100/steam_without_ea_top100.csv\")\n",
    "steamWithoutEATop100DF.createOrReplaceTempView(\"steam_without_ea100\")\n",
    "steamWithoutEATop100DF.printSchema()\n",
    "steamWithoutEATop100DF.show(1)"
   ]
  },
  {
   "cell_type": "code",
   "execution_count": 57,
   "id": "901ede26",
   "metadata": {},
   "outputs": [
    {
     "name": "stdout",
     "output_type": "stream",
     "text": [
      "root\n",
      " |-- sum(count_reviews): long (nullable = true)\n",
      "\n",
      "+------------------+\n",
      "|sum(count_reviews)|\n",
      "+------------------+\n",
      "|             34735|\n",
      "+------------------+\n",
      "\n"
     ]
    }
   ],
   "source": [
    "steamSumRatesWithEATop100DF = spark.sql(\"\"\"SELECT sum(count_reviews)\n",
    "                            FROM steam_with_ea_after100\n",
    "                             \"\"\")\n",
    "steamSumRatesWithEATop100DF.printSchema()\n",
    "steamSumRatesWithEATop100DF.show()"
   ]
  },
  {
   "cell_type": "code",
   "execution_count": 59,
   "id": "260ceef5",
   "metadata": {},
   "outputs": [
    {
     "name": "stdout",
     "output_type": "stream",
     "text": [
      "root\n",
      " |-- sum(count_reviews): long (nullable = true)\n",
      "\n",
      "+------------------+\n",
      "|sum(count_reviews)|\n",
      "+------------------+\n",
      "|             77986|\n",
      "+------------------+\n",
      "\n"
     ]
    }
   ],
   "source": [
    "steamSumRatesWithoutEATop100DF = spark.sql(\"\"\"SELECT sum(count_reviews)\n",
    "                            FROM steam_without_ea100\n",
    "                             \"\"\")\n",
    "steamSumRatesWithoutEATop100DF.printSchema()\n",
    "steamSumRatesWithoutEATop100DF.show()"
   ]
  },
  {
   "cell_type": "code",
   "execution_count": 60,
   "id": "613fc7ed",
   "metadata": {},
   "outputs": [
    {
     "name": "stdout",
     "output_type": "stream",
     "text": [
      "root\n",
      " |-- avg(avg_rating): double (nullable = true)\n",
      "\n",
      "+------------------+\n",
      "|   avg(avg_rating)|\n",
      "+------------------+\n",
      "|0.9093949622389083|\n",
      "+------------------+\n",
      "\n"
     ]
    }
   ],
   "source": [
    "steamAvgRatingWithEAAfterTop100DF = spark.sql(\"\"\"SELECT avg(avg_rating)\n",
    "                            FROM steam_with_ea_after100\n",
    "                             \"\"\")\n",
    "steamAvgRatingWithEAAfterTop100DF.printSchema()\n",
    "steamAvgRatingWithEAAfterTop100DF.show()"
   ]
  },
  {
   "cell_type": "code",
   "execution_count": 61,
   "id": "b564530e",
   "metadata": {},
   "outputs": [
    {
     "name": "stdout",
     "output_type": "stream",
     "text": [
      "root\n",
      " |-- avg(avg_rating): double (nullable = true)\n",
      "\n",
      "+----------------+\n",
      "| avg(avg_rating)|\n",
      "+----------------+\n",
      "|0.89668220162413|\n",
      "+----------------+\n",
      "\n"
     ]
    }
   ],
   "source": [
    "steamAvgRatingWithoutEATop100DF = spark.sql(\"\"\"SELECT avg(avg_rating)\n",
    "                            FROM steam_without_ea100\n",
    "                             \"\"\")\n",
    "steamAvgRatingWithoutEATop100DF.printSchema()\n",
    "steamAvgRatingWithoutEATop100DF.show()"
   ]
  },
  {
   "cell_type": "code",
   "execution_count": null,
   "id": "3ad1a395",
   "metadata": {},
   "outputs": [],
   "source": []
  }
 ],
 "metadata": {
  "kernelspec": {
   "display_name": "Python 3 (ipykernel)",
   "language": "python",
   "name": "python3"
  },
  "language_info": {
   "codemirror_mode": {
    "name": "ipython",
    "version": 3
   },
   "file_extension": ".py",
   "mimetype": "text/x-python",
   "name": "python",
   "nbconvert_exporter": "python",
   "pygments_lexer": "ipython3",
   "version": "3.8.11"
  }
 },
 "nbformat": 4,
 "nbformat_minor": 5
}
